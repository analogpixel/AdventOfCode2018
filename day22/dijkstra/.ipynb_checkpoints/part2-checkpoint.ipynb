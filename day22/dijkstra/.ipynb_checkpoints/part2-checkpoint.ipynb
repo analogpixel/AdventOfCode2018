{
 "cells": [
  {
   "cell_type": "markdown",
   "metadata": {},
   "source": [
    "\n",
    "- [article on dijkstra](https://medium.com/basecs/finding-the-shortest-path-with-a-little-help-from-dijkstra-613149fbdc8e)\n",
    "- [video on dijkstra](https://www.youtube.com/watch?v=pVfj6mxhdMw)\n"
   ]
  },
  {
   "cell_type": "code",
   "execution_count": 16,
   "metadata": {},
   "outputs": [],
   "source": [
    "depth=7863\n",
    "elf_x=14\n",
    "elf_y=760"
   ]
  },
  {
   "cell_type": "code",
   "execution_count": 10,
   "metadata": {},
   "outputs": [],
   "source": [
    "depth=510\n",
    "elf_x=10\n",
    "elf_y=10"
   ]
  },
  {
   "cell_type": "code",
   "execution_count": 3,
   "metadata": {},
   "outputs": [],
   "source": [
    "depth=6969\n",
    "elf_x=9\n",
    "elf_y=796"
   ]
  },
  {
   "cell_type": "code",
   "execution_count": 17,
   "metadata": {},
   "outputs": [],
   "source": [
    "# lower values don't give you enough space to find the solution\n",
    "\n",
    "maxx = elf_x * 10\n",
    "maxy = elf_y * 10"
   ]
  },
  {
   "cell_type": "markdown",
   "metadata": {},
   "source": [
    "# Part 1\n",
    "build the intial map of where every thing is."
   ]
  },
  {
   "cell_type": "code",
   "execution_count": 18,
   "metadata": {},
   "outputs": [
    {
     "data": {
      "text/plain": [
       "11462"
      ]
     },
     "execution_count": 18,
     "metadata": {},
     "output_type": "execute_result"
    }
   ],
   "source": [
    "geo_index = [[0 for i in range(maxx)] for j in range(maxy)]\n",
    "ero_index = [[0 for i in range(maxx)] for j in range(maxy)]\n",
    "\n",
    "t = ['.', '=', '|']\n",
    "\n",
    "for x in range(0, maxx):\n",
    "    for y in range(0, maxy):\n",
    "        if (x==elf_x) and (y==elf_y):\n",
    "            geo_index[y][x] = 0\n",
    "        elif x==0 and y==0:\n",
    "            geo_index[y][x] == 0\n",
    "        elif y == 0:\n",
    "            geo_index[y][x] = x * 16807\n",
    "        elif x == 0:\n",
    "            geo_index[y][x] = y * 48271\n",
    "        else:\n",
    "            geo_index[y][x] = ero_index[y][x-1] * ero_index[y-1][x]\n",
    "\n",
    "        ero_index[y][x] =  ((geo_index[y][x] + depth) % 20183)\n",
    "\n",
    "for x in range(0, maxx):\n",
    "    for y in range(0, maxy):\n",
    "        ero_index[y][x] = ero_index[y][x] % 3\n",
    "\n",
    "total=0\n",
    "for x in range(0, elf_x+1):\n",
    "    for y in range(0, elf_y+1):\n",
    "        total += ero_index[y][x]\n",
    "total\n",
    "\n",
    "#for e in ero_index:\n",
    "#    print(\"\".join(map(lambda x: t[x], e)))"
   ]
  },
  {
   "cell_type": "markdown",
   "metadata": {},
   "source": [
    "# Part 2\n",
    "build a node graph "
   ]
  },
  {
   "cell_type": "code",
   "execution_count": 19,
   "metadata": {},
   "outputs": [],
   "source": [
    "import networkx as netx"
   ]
  },
  {
   "cell_type": "code",
   "execution_count": 20,
   "metadata": {},
   "outputs": [],
   "source": [
    "rock = 0\n",
    "wet = 1\n",
    "narrow = 2\n",
    "\n",
    "neither = 0\n",
    "torch = 1\n",
    "climbing_gear = 2\n",
    "\n",
    "valid_tools = [ [climbing_gear,torch], \n",
    "                [climbing_gear,neither], \n",
    "                [torch,neither] \n",
    "              ]"
   ]
  },
  {
   "cell_type": "code",
   "execution_count": 21,
   "metadata": {},
   "outputs": [
    {
     "data": {
      "text/plain": [
       "1054"
      ]
     },
     "execution_count": 21,
     "metadata": {},
     "output_type": "execute_result"
    }
   ],
   "source": [
    "graph = netx.Graph()\n",
    "\n",
    "for y in range(0, maxy):\n",
    "    for x in range(0, maxx):\n",
    "\n",
    "        # change between the two types of tools valid here\n",
    "        vt = valid_tools[ ero_index[y][x] ]\n",
    "        graph.add_edge( (x,y,vt[0]), (x,y,vt[1]), weight=7) \n",
    "\n",
    "        for dx,dy in [ (0,1), (0,-1), (1,0), (-1,0)]:\n",
    "            nx = x + dx\n",
    "            ny = y + dy\n",
    "\n",
    "            if nx > maxx-1 or nx < 0 or ny > maxy-1 or ny < 0:\n",
    "                continue\n",
    "            \n",
    "            for t in set(vt).intersection( valid_tools[ ero_index[ny][nx] ]):\n",
    "                graph.add_edge( (x,y,t), (nx,ny,t), weight=1) \n",
    "\n",
    "out = netx.dijkstra_path_length(graph, (0,0, torch), (elf_x, elf_y, torch))\n",
    "out"
   ]
  },
  {
   "cell_type": "code",
   "execution_count": 22,
   "metadata": {},
   "outputs": [
    {
     "data": {
      "text/plain": [
       "7863"
      ]
     },
     "execution_count": 22,
     "metadata": {},
     "output_type": "execute_result"
    }
   ],
   "source": [
    "depth"
   ]
  },
  {
   "cell_type": "code",
   "execution_count": null,
   "metadata": {},
   "outputs": [],
   "source": []
  },
  {
   "cell_type": "code",
   "execution_count": null,
   "metadata": {},
   "outputs": [],
   "source": []
  }
 ],
 "metadata": {
  "kernelspec": {
   "display_name": "Python 3",
   "language": "python",
   "name": "python3"
  },
  "language_info": {
   "codemirror_mode": {
    "name": "ipython",
    "version": 3
   },
   "file_extension": ".py",
   "mimetype": "text/x-python",
   "name": "python",
   "nbconvert_exporter": "python",
   "pygments_lexer": "ipython3",
   "version": "3.6.5"
  }
 },
 "nbformat": 4,
 "nbformat_minor": 2
}
