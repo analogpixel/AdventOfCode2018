{
 "cells": [
  {
   "cell_type": "markdown",
   "metadata": {},
   "source": [
    "\n",
    "- [article on dijkstra](https://medium.com/basecs/finding-the-shortest-path-with-a-little-help-from-dijkstra-613149fbdc8e)\n",
    "- [video on dijkstra](https://www.youtube.com/watch?v=pVfj6mxhdMw)\n"
   ]
  },
  {
   "cell_type": "code",
   "execution_count": 244,
   "metadata": {},
   "outputs": [],
   "source": [
    "depth=7863\n",
    "elf_x=14\n",
    "elf_y=760\n",
    "\n",
    "depth=510\n",
    "elf_x=10\n",
    "elf_y=10"
   ]
  },
  {
   "cell_type": "markdown",
   "metadata": {},
   "source": [
    "# Part 1\n",
    "build the intial map of where every thing is."
   ]
  },
  {
   "cell_type": "code",
   "execution_count": 245,
   "metadata": {},
   "outputs": [],
   "source": [
    "geo_index = [[0 for i in range(elf_x+6)] for j in range(elf_y+6)]\n",
    "ero_index = [[0 for i in range(elf_x+6)] for j in range(elf_y+6)]\n",
    "\n",
    "t = ['.', '=', '|']\n",
    "\n",
    "for x in range(0, elf_x+6):\n",
    "    for y in range(0, elf_y+6):\n",
    "        if (x==elf_x) and (y==elf_y):\n",
    "            geo_index[y][x] = 0\n",
    "        elif x==0 and y==0:\n",
    "            geo_index[y][x] == 0\n",
    "        elif y == 0:\n",
    "            geo_index[y][x] = x * 16807\n",
    "        elif x == 0:\n",
    "            geo_index[y][x] = y * 48271\n",
    "        else:\n",
    "            geo_index[y][x] = ero_index[y][x-1] * ero_index[y-1][x]\n",
    "\n",
    "        ero_index[y][x] =  ((geo_index[y][x] + depth) % 20183)\n",
    "\n",
    "for x in range(0, elf_x+6):\n",
    "    for y in range(0, elf_y+6):\n",
    "        ero_index[y][x] = ero_index[y][x] % 3"
   ]
  },
  {
   "cell_type": "markdown",
   "metadata": {},
   "source": [
    "# Part 2\n",
    "build a node graph "
   ]
  },
  {
   "cell_type": "code",
   "execution_count": 246,
   "metadata": {},
   "outputs": [],
   "source": [
    "import networkx as nx\n",
    "import matplotlib\n",
    "import matplotlib.pyplot as plt\n",
    "\n",
    "%matplotlib inline \n",
    "G = nx.Graph()\n",
    "unvisited = []\n",
    "visited = []\n",
    "\n",
    "nodes = {}\n",
    "edges = {}\n",
    "graph = {}"
   ]
  },
  {
   "cell_type": "code",
   "execution_count": 247,
   "metadata": {},
   "outputs": [],
   "source": [
    "#\n",
    "# Find the smallest unvisisted node\n",
    "#\n",
    "def min_unvisited_node(graph):\n",
    "    min_v = 99999\n",
    "    m_node = -1\n",
    "    for node in graph.keys():\n",
    "        # if the node is smaller than the min, and is unvisited \n",
    "        if graph[node][0] < min_v and graph[node][3] == False:\n",
    "            min_v = graph[node][0]\n",
    "            m_node = node\n",
    "    return m_node\n",
    "\n",
    "rock = 0\n",
    "wet = 1\n",
    "narrow = 2\n",
    "\n",
    "climbing_gear = 2\n",
    "torch = 1\n",
    "neither = 0\n",
    "\n",
    "shortest_path_to_a = 0\n",
    "prev_node = 1\n",
    "tool = 2\n",
    "visited = 3\n",
    "\n",
    "eindex = 0\n",
    "node_neighbors = 1\n",
    "\n",
    "valid_tools = [ [climbing_gear,torch], \n",
    "                [climbing_gear,neither], \n",
    "                [torch,neither] \n",
    "              ]"
   ]
  },
  {
   "cell_type": "code",
   "execution_count": 256,
   "metadata": {},
   "outputs": [],
   "source": [
    "for x in range(0, elf_x+5):\n",
    "    for y in range(0, elf_y+5):\n",
    "        neigh = []\n",
    "        for dir in [ (0,1), (0,-1), (1,0), (-1,0)]:\n",
    "            if x + dir[0] > elf_x+4 or x+dir[0] < 0 or y+dir[1] > elf_y+4 or y+dir[1] < 0:\n",
    "                continue\n",
    "            neigh.append( str(x+dir[0]) + \"_\" + str(y+dir[1]) )\n",
    "        \n",
    "        # (shortest_path_a, prev, tool, visisted)\n",
    "        graph[str(x) + \"_\" + str(y)] = [99999, False, False, False]\n",
    "        nodes[str(x) + \"_\" + str(y)] = [ero_index[y][x],neigh]\n",
    "\n",
    "graph['0_0'][shortest_path_to_a] = 0\n",
    "graph['0_0'][tool] = torch # start with a torch\n",
    "\n",
    "while True:\n",
    "    # get the current smallest node that isn't visited \n",
    "    current_min_node = min_unvisited_node(graph)\n",
    "\n",
    "    #px,py = map(int, current_min_node.split(\"_\"))\n",
    "    #if px == elf_x and py == elf_y:\n",
    "    #    break\n",
    "        \n",
    "    # and we are done\n",
    "    if current_min_node == -1:\n",
    "        break\n",
    "\n",
    "    # get the distance from the current_min_node to all it's neighbors \n",
    "    for n in  nodes[current_min_node][node_neighbors]:\n",
    "        current_tool = graph[ current_min_node ][tool]\n",
    "        (x,y) = map(int, n.split('_'))\n",
    "\n",
    "            \n",
    "        if current_tool in valid_tools[ ero_index[y][x]]:\n",
    "            # current tools can be used in this area\n",
    "            points = 1\n",
    "            eq = current_tool\n",
    "        else:\n",
    "            # current tool must change\n",
    "            points = 8\n",
    "            if nodes[n][eindex] == rock and nodes[current_min_node][eindex] == wet:\n",
    "                eq = climbing_gear\n",
    "            elif nodes[n][eindex] == rock and nodes[current_min_node][eindex] == narrow:\n",
    "                eq = torch\n",
    "            elif nodes[n][eindex] == wet and nodes[current_min_node][eindex] == rock:\n",
    "                eq = climbing_gear\n",
    "            elif nodes[n][eindex] == wet and nodes[current_min_node][eindex] == narrow:\n",
    "                eq = neither\n",
    "            elif nodes[n][eindex] == narrow and nodes[current_min_node][eindex] == rock:\n",
    "                eq = torch\n",
    "            elif nodes[n][eindex] == narrow and nodes[current_min_node][eindex] == wet:\n",
    "                eq = neither    \n",
    "            \n",
    "        t = graph[current_min_node][shortest_path_to_a] + points\n",
    "        if graph[n][shortest_path_to_a] > t:\n",
    "            graph[n][shortest_path_to_a] = t\n",
    "            graph[n][tool] = eq\n",
    "            graph[n][prev_node] = current_min_node\n",
    "\n",
    "    graph[current_min_node][visited] = True\n",
    "    "
   ]
  },
  {
   "cell_type": "code",
   "execution_count": 257,
   "metadata": {},
   "outputs": [
    {
     "name": "stdout",
     "output_type": "stream",
     "text": [
      "0_0 [0, False, 1, True]\n",
      "0_1 [1, '0_0', 1, True]\n",
      "0_2 [2, '0_1', 1, True]\n",
      "0_3 [10, '0_2', 2, True]\n",
      "0_4 [11, '0_3', 2, True]\n",
      "0_5 [12, '0_4', 2, True]\n",
      "1_5 [20, '0_5', 0, True]\n",
      "2_5 [21, '1_5', 0, True]\n",
      "2_6 [22, '2_5', 0, True]\n",
      "2_7 [30, '2_6', 2, True]\n",
      "2_8 [31, '2_7', 2, True]\n",
      "2_9 [32, '2_8', 2, True]\n",
      "3_9 [33, '2_9', 2, True]\n",
      "4_9 [34, '3_9', 2, True]\n",
      "5_9 [35, '4_9', 2, True]\n",
      "5_10 [36, '5_9', 2, True]\n",
      "5_11 [37, '5_10', 2, True]\n",
      "5_12 [38, '5_11', 2, True]\n",
      "6_12 [39, '5_12', 2, True]\n",
      "7_12 [40, '6_12', 2, True]\n",
      "8_12 [41, '7_12', 2, True]\n",
      "9_12 [42, '8_12', 2, True]\n",
      "10_12 [43, '9_12', 2, True]\n",
      "10_11 [44, '10_12', 2, True]\n",
      "10_10 [45, '10_11', 2, True]\n",
      "45\n"
     ]
    }
   ],
   "source": [
    "\n",
    "d = graph[ str(elf_x) + \"_\" + str(elf_y)]\n",
    "\n",
    "z = str(elf_x) + \"_\" + str(elf_y)\n",
    "out = []\n",
    "while z != '0_0':\n",
    "    out.append(z)\n",
    "    z = graph[z][prev_node]\n",
    "\n",
    "out.append('0_0')\n",
    "while len(out) >0:\n",
    "    j = out.pop()\n",
    "    print( j, graph[j] )\n",
    "\n",
    "print( d[shortest_path_to_a])\n"
   ]
  },
  {
   "cell_type": "code",
   "execution_count": null,
   "metadata": {},
   "outputs": [],
   "source": []
  },
  {
   "cell_type": "code",
   "execution_count": null,
   "metadata": {},
   "outputs": [],
   "source": []
  },
  {
   "cell_type": "code",
   "execution_count": null,
   "metadata": {},
   "outputs": [],
   "source": []
  }
 ],
 "metadata": {
  "kernelspec": {
   "display_name": "Python 3",
   "language": "python",
   "name": "python3"
  },
  "language_info": {
   "codemirror_mode": {
    "name": "ipython",
    "version": 3
   },
   "file_extension": ".py",
   "mimetype": "text/x-python",
   "name": "python",
   "nbconvert_exporter": "python",
   "pygments_lexer": "ipython3",
   "version": "3.6.5"
  }
 },
 "nbformat": 4,
 "nbformat_minor": 2
}
