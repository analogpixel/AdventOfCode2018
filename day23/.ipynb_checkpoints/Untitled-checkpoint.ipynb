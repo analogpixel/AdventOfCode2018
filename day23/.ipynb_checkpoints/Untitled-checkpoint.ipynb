{
 "cells": [
  {
   "cell_type": "code",
   "execution_count": 11,
   "metadata": {},
   "outputs": [
    {
     "ename": "SyntaxError",
     "evalue": "invalid syntax (<ipython-input-11-2c96f8594c33>, line 25)",
     "output_type": "error",
     "traceback": [
      "\u001b[0;36m  File \u001b[0;32m\"<ipython-input-11-2c96f8594c33>\"\u001b[0;36m, line \u001b[0;32m25\u001b[0m\n\u001b[0;31m    whiles len(boxes) > 0:\u001b[0m\n\u001b[0m             ^\u001b[0m\n\u001b[0;31mSyntaxError\u001b[0m\u001b[0;31m:\u001b[0m invalid syntax\n"
     ]
    }
   ],
   "source": [
    "#!/usr/bin/env python\n",
    "\n",
    "import re\n",
    "import shapely\n",
    "from shapely.geometry import box\n",
    "import copy\n",
    "\n",
    "input_file = \"input.txt\"\n",
    "#input_file = \"test_input2.txt\"\n",
    "\n",
    "input = list(map( lambda x: x.strip(), open(input_file).readlines() ))\n",
    "\n",
    "points = []\n",
    "boxes = []\n",
    "for i in range(0, len(input)):\n",
    "    m = re.match( r'pos=<(.*)>, r=(.*)' , input[i])\n",
    "    size = int(m.group(2))\n",
    "    pos = list(map(lambda x: int(x), m.group(1).split(',')))\n",
    "\n",
    "    boxes.append( box(pos[0]-size, pos[0]-size, pos[0]+size, pos[1]+size, ccw=True) )\n",
    "    points.append([pos, size])\n",
    "\n",
    "\n",
    "inters = []\n",
    "while len(boxes) > 0:\n",
    "    print('ittr')\n",
    "    boxa = boxes.pop(0)\n",
    "    non_inters = []\n",
    "    for boxb in boxes:\n",
    "        if boxa.intersects(boxb):\n",
    "            i = boxa.intersection(boxb)\n",
    "            if not i in inters:\n",
    "                inters.append(i)\n",
    "            else:\n",
    "                non_inters.append(i)\n",
    "    boxes = copy.deepcopy(non_inters)"
   ]
  },
  {
   "cell_type": "code",
   "execution_count": 10,
   "metadata": {},
   "outputs": [
    {
     "data": {
      "text/plain": [
       "79"
      ]
     },
     "execution_count": 10,
     "metadata": {},
     "output_type": "execute_result"
    }
   ],
   "source": [
    "len(inters)\n",
    "len(non_inters)"
   ]
  },
  {
   "cell_type": "code",
   "execution_count": null,
   "metadata": {
    "collapsed": true
   },
   "outputs": [],
   "source": []
  }
 ],
 "metadata": {
  "kernelspec": {
   "display_name": "Python 3",
   "language": "python",
   "name": "python3"
  },
  "language_info": {
   "codemirror_mode": {
    "name": "ipython",
    "version": 3
   },
   "file_extension": ".py",
   "mimetype": "text/x-python",
   "name": "python",
   "nbconvert_exporter": "python",
   "pygments_lexer": "ipython3",
   "version": "3.5.2"
  }
 },
 "nbformat": 4,
 "nbformat_minor": 2
}
