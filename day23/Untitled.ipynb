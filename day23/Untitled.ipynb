{
 "cells": [
  {
   "cell_type": "code",
   "execution_count": 29,
   "metadata": {},
   "outputs": [
    {
     "name": "stdout",
     "output_type": "stream",
     "text": [
      "1000\n",
      "911\n",
      "910\n",
      "685\n",
      "684\n",
      "435\n",
      "411\n",
      "358\n",
      "225\n",
      "218\n",
      "217\n",
      "166\n",
      "135\n",
      "134\n",
      "92\n",
      "91\n",
      "90\n",
      "39\n",
      "33\n",
      "32\n",
      "16\n",
      "14\n",
      "9\n",
      "8\n",
      "7\n",
      "6\n"
     ]
    }
   ],
   "source": [
    "#!/usr/bin/env python\n",
    "\n",
    "import re\n",
    "import shapely\n",
    "from shapely.geometry import box\n",
    "import copy\n",
    "\n",
    "input_file = \"input.txt\"\n",
    "#input_file = \"test_input2.txt\"\n",
    "\n",
    "input = list(map( lambda x: x.strip(), open(input_file).readlines() ))\n",
    "\n",
    "points = []\n",
    "boxes = []\n",
    "for i in range(0, len(input)):\n",
    "    m = re.match( r'pos=<(.*)>, r=(.*)' , input[i])\n",
    "    size = int(m.group(2))\n",
    "    pos = list(map(lambda x: int(x), m.group(1).split(',')))\n",
    "\n",
    "    boxes.append( box(pos[0]-size, pos[0]-size, pos[0]+size, pos[1]+size, ccw=True) )\n",
    "    points.append([pos, size])\n",
    "\n",
    "\n",
    "inters = []\n",
    "while len(boxes) > 4:\n",
    "    print(len(boxes))\n",
    "    while len(boxes) > 0:\n",
    "        boxa = boxes.pop(0)\n",
    "        non_inters = []\n",
    "        for boxb in boxes:\n",
    "            if boxa.intersects(boxb):\n",
    "                i = boxa.intersection(boxb)\n",
    "                if not i in inters:\n",
    "                    inters.append(i)\n",
    "                else:\n",
    "                    non_inters.append(i)\n",
    "        boxes = copy.deepcopy(non_inters)\n",
    "    boxes = copy.deepcopy(inters)\n",
    "    inters = []"
   ]
  },
  {
   "cell_type": "code",
   "execution_count": 30,
   "metadata": {},
   "outputs": [
    {
     "name": "stdout",
     "output_type": "stream",
     "text": [
      "57941197486780.0\n",
      "171245173362785.0\n",
      "167441239175570.0\n",
      "69955469461844.0\n"
     ]
    }
   ],
   "source": [
    "for b in boxes:\n",
    "    print(b.area)"
   ]
  },
  {
   "cell_type": "code",
   "execution_count": null,
   "metadata": {
    "collapsed": true
   },
   "outputs": [],
   "source": []
  }
 ],
 "metadata": {
  "kernelspec": {
   "display_name": "Python 3",
   "language": "python",
   "name": "python3"
  },
  "language_info": {
   "codemirror_mode": {
    "name": "ipython",
    "version": 3
   },
   "file_extension": ".py",
   "mimetype": "text/x-python",
   "name": "python",
   "nbconvert_exporter": "python",
   "pygments_lexer": "ipython3",
   "version": "3.5.2"
  }
 },
 "nbformat": 4,
 "nbformat_minor": 2
}
